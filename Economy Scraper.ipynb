{
 "cells": [
  {
   "cell_type": "code",
   "execution_count": 1,
   "metadata": {},
   "outputs": [
    {
     "ename": "WebDriverException",
     "evalue": "Message: 'chromedriver.exe' executable needs to be in PATH. Please see https://sites.google.com/a/chromium.org/chromedriver/home\n",
     "output_type": "error",
     "traceback": [
      "\u001b[1;31m---------------------------------------------------------------------------\u001b[0m",
      "\u001b[1;31mFileNotFoundError\u001b[0m                         Traceback (most recent call last)",
      "\u001b[1;32m~\\Anaconda3\\lib\\site-packages\\selenium\\webdriver\\common\\service.py\u001b[0m in \u001b[0;36mstart\u001b[1;34m(self)\u001b[0m\n\u001b[0;32m     75\u001b[0m                                             \u001b[0mstderr\u001b[0m\u001b[1;33m=\u001b[0m\u001b[0mself\u001b[0m\u001b[1;33m.\u001b[0m\u001b[0mlog_file\u001b[0m\u001b[1;33m,\u001b[0m\u001b[1;33m\u001b[0m\u001b[0m\n\u001b[1;32m---> 76\u001b[1;33m                                             stdin=PIPE)\n\u001b[0m\u001b[0;32m     77\u001b[0m         \u001b[1;32mexcept\u001b[0m \u001b[0mTypeError\u001b[0m\u001b[1;33m:\u001b[0m\u001b[1;33m\u001b[0m\u001b[0m\n",
      "\u001b[1;32m~\\Anaconda3\\lib\\subprocess.py\u001b[0m in \u001b[0;36m__init__\u001b[1;34m(self, args, bufsize, executable, stdin, stdout, stderr, preexec_fn, close_fds, shell, cwd, env, universal_newlines, startupinfo, creationflags, restore_signals, start_new_session, pass_fds, encoding, errors)\u001b[0m\n\u001b[0;32m    708\u001b[0m                                 \u001b[0merrread\u001b[0m\u001b[1;33m,\u001b[0m \u001b[0merrwrite\u001b[0m\u001b[1;33m,\u001b[0m\u001b[1;33m\u001b[0m\u001b[0m\n\u001b[1;32m--> 709\u001b[1;33m                                 restore_signals, start_new_session)\n\u001b[0m\u001b[0;32m    710\u001b[0m         \u001b[1;32mexcept\u001b[0m\u001b[1;33m:\u001b[0m\u001b[1;33m\u001b[0m\u001b[0m\n",
      "\u001b[1;32m~\\Anaconda3\\lib\\subprocess.py\u001b[0m in \u001b[0;36m_execute_child\u001b[1;34m(self, args, executable, preexec_fn, close_fds, pass_fds, cwd, env, startupinfo, creationflags, shell, p2cread, p2cwrite, c2pread, c2pwrite, errread, errwrite, unused_restore_signals, unused_start_new_session)\u001b[0m\n\u001b[0;32m    996\u001b[0m                                          \u001b[0mos\u001b[0m\u001b[1;33m.\u001b[0m\u001b[0mfspath\u001b[0m\u001b[1;33m(\u001b[0m\u001b[0mcwd\u001b[0m\u001b[1;33m)\u001b[0m \u001b[1;32mif\u001b[0m \u001b[0mcwd\u001b[0m \u001b[1;32mis\u001b[0m \u001b[1;32mnot\u001b[0m \u001b[1;32mNone\u001b[0m \u001b[1;32melse\u001b[0m \u001b[1;32mNone\u001b[0m\u001b[1;33m,\u001b[0m\u001b[1;33m\u001b[0m\u001b[0m\n\u001b[1;32m--> 997\u001b[1;33m                                          startupinfo)\n\u001b[0m\u001b[0;32m    998\u001b[0m             \u001b[1;32mfinally\u001b[0m\u001b[1;33m:\u001b[0m\u001b[1;33m\u001b[0m\u001b[0m\n",
      "\u001b[1;31mFileNotFoundError\u001b[0m: [WinError 2] The system cannot find the file specified",
      "\nDuring handling of the above exception, another exception occurred:\n",
      "\u001b[1;31mWebDriverException\u001b[0m                        Traceback (most recent call last)",
      "\u001b[1;32m<ipython-input-1-96d5c53b83a4>\u001b[0m in \u001b[0;36m<module>\u001b[1;34m()\u001b[0m\n\u001b[0;32m      7\u001b[0m \u001b[0mchrome_options\u001b[0m \u001b[1;33m=\u001b[0m \u001b[0mOptions\u001b[0m\u001b[1;33m(\u001b[0m\u001b[1;33m)\u001b[0m\u001b[1;33m\u001b[0m\u001b[0m\n\u001b[0;32m      8\u001b[0m \u001b[0mchrome_options\u001b[0m\u001b[1;33m.\u001b[0m\u001b[0madd_argument\u001b[0m\u001b[1;33m(\u001b[0m\u001b[1;34m\"--headless\"\u001b[0m\u001b[1;33m)\u001b[0m\u001b[1;33m\u001b[0m\u001b[0m\n\u001b[1;32m----> 9\u001b[1;33m \u001b[0mbr\u001b[0m \u001b[1;33m=\u001b[0m \u001b[0mwebdriver\u001b[0m\u001b[1;33m.\u001b[0m\u001b[0mChrome\u001b[0m\u001b[1;33m(\u001b[0m\u001b[0mchrome_options\u001b[0m\u001b[1;33m=\u001b[0m\u001b[0mchrome_options\u001b[0m\u001b[1;33m,\u001b[0m \u001b[0mexecutable_path\u001b[0m\u001b[1;33m=\u001b[0m\u001b[1;34mr'./chromedriver.exe'\u001b[0m\u001b[1;33m)\u001b[0m\u001b[1;33m\u001b[0m\u001b[0m\n\u001b[0m",
      "\u001b[1;32m~\\Anaconda3\\lib\\site-packages\\selenium\\webdriver\\chrome\\webdriver.py\u001b[0m in \u001b[0;36m__init__\u001b[1;34m(self, executable_path, port, options, service_args, desired_capabilities, service_log_path, chrome_options)\u001b[0m\n\u001b[0;32m     66\u001b[0m             \u001b[0mservice_args\u001b[0m\u001b[1;33m=\u001b[0m\u001b[0mservice_args\u001b[0m\u001b[1;33m,\u001b[0m\u001b[1;33m\u001b[0m\u001b[0m\n\u001b[0;32m     67\u001b[0m             log_path=service_log_path)\n\u001b[1;32m---> 68\u001b[1;33m         \u001b[0mself\u001b[0m\u001b[1;33m.\u001b[0m\u001b[0mservice\u001b[0m\u001b[1;33m.\u001b[0m\u001b[0mstart\u001b[0m\u001b[1;33m(\u001b[0m\u001b[1;33m)\u001b[0m\u001b[1;33m\u001b[0m\u001b[0m\n\u001b[0m\u001b[0;32m     69\u001b[0m \u001b[1;33m\u001b[0m\u001b[0m\n\u001b[0;32m     70\u001b[0m         \u001b[1;32mtry\u001b[0m\u001b[1;33m:\u001b[0m\u001b[1;33m\u001b[0m\u001b[0m\n",
      "\u001b[1;32m~\\Anaconda3\\lib\\site-packages\\selenium\\webdriver\\common\\service.py\u001b[0m in \u001b[0;36mstart\u001b[1;34m(self)\u001b[0m\n\u001b[0;32m     81\u001b[0m                 raise WebDriverException(\n\u001b[0;32m     82\u001b[0m                     \"'%s' executable needs to be in PATH. %s\" % (\n\u001b[1;32m---> 83\u001b[1;33m                         os.path.basename(self.path), self.start_error_message)\n\u001b[0m\u001b[0;32m     84\u001b[0m                 )\n\u001b[0;32m     85\u001b[0m             \u001b[1;32melif\u001b[0m \u001b[0merr\u001b[0m\u001b[1;33m.\u001b[0m\u001b[0merrno\u001b[0m \u001b[1;33m==\u001b[0m \u001b[0merrno\u001b[0m\u001b[1;33m.\u001b[0m\u001b[0mEACCES\u001b[0m\u001b[1;33m:\u001b[0m\u001b[1;33m\u001b[0m\u001b[0m\n",
      "\u001b[1;31mWebDriverException\u001b[0m: Message: 'chromedriver.exe' executable needs to be in PATH. Please see https://sites.google.com/a/chromium.org/chromedriver/home\n"
     ]
    }
   ],
   "source": [
    "import numpy as np\n",
    "import pandas as pd\n",
    "from selenium import webdriver\n",
    "from selenium.webdriver.chrome.options import Options \n",
    "import selenium.webdriver.support.ui as ui\n",
    "import time\n",
    "chrome_options = Options()  \n",
    "chrome_options.add_argument(\"--headless\")\n",
    "br = webdriver.Chrome(chrome_options=chrome_options, executable_path=r'./chromedriver.exe')"
   ]
  },
  {
   "cell_type": "code",
   "execution_count": 2,
   "metadata": {},
   "outputs": [],
   "source": [
    "# Warning: code takes more than an hour to run since we have to wait until every\n",
    "# page's Javascript content loads. That takes around 1-2 seconds normally, but\n",
    "# sometimes may take one second longer than that, causing the program to crash.\n",
    "# We use 5 seconds just in case, to avoid any possible hangups in the process.\n",
    "\n",
    "# Scrapes median income, unemployment rate, and mean commute times of every city\n",
    "def scraping_cities(city, row):\n",
    "  \n",
    "    br.get(\"https://factfinder.census.gov/faces/nav/jsf/pages/community_facts.xhtml\")\n",
    "    wait = ui.WebDriverWait(br,15)\n",
    "    time.sleep(2)\n",
    "    # Types search terms for a city\n",
    "    element = wait.until(lambda br:br.find_element_by_id('cfsearchtextbox'))\n",
    "    element.clear()\n",
    "    element.send_keys(city)\n",
    "\n",
    "    # Submits form\n",
    "    element =  wait.until(lambda br: br.find_element_by_xpath('//*[@id=\"communityfactssubmit\"]'))\n",
    "    element.click()\n",
    "\n",
    "    # Clicking the income tab\n",
    "    time.sleep(2.5)\n",
    "    element = wait.until(lambda br:br.find_element_by_xpath('//*[@id=\"leftnav\"]/a[7]'))\n",
    "    element.click()\n",
    "\n",
    "    # Getting table link\n",
    "    time.sleep(2.5)\n",
    "    element = wait.until(lambda br:br.find_element_by_xpath('//*[@id=\"cf-content\"]/div[2]/div[1]/ul[1]/li[1]/div/a'))\n",
    "    href = element.get_attribute('href')\n",
    "    br.get(href)\n",
    "\n",
    "    #\n",
    "    for i in range(2, 9):\n",
    "        time.sleep(5)\n",
    "            \n",
    "        # Append unemployment rate\n",
    "        element = wait.until(lambda br:br.find_element_by_xpath('//*[@id=\"data\"]/tbody/tr[11]/td[3]'))\n",
    "        unemploymentDF.iloc[row, i-2] = element.text\n",
    "        \n",
    "        # Append commute time rate\n",
    "        element = wait.until(lambda br:br.find_element_by_xpath('//*[@id=\"data\"]/tbody/tr[33]/td[1]'))\n",
    "        commuteDF.iloc[row, i-2] = element.text\n",
    "        \n",
    "        # Append median income data\n",
    "        element = wait.until(lambda br:br.find_element_by_xpath('//*[@id=\"data\"]/tbody/tr[79]/td[1]'))\n",
    "        incomeDF.iloc[row, i-2] = element.text\n",
    "        \n",
    "        # Stop from getting nonexistent element\n",
    "        if i == 8:\n",
    "            break\n",
    "        \n",
    "        # Get previous year\n",
    "        element = wait.until(lambda br:br.find_element_by_xpath('//*[@id=\"year_selector_content\"]/ul/li['+ str(i) +']/a'))\n",
    "        element.click()\n"
   ]
  },
  {
   "cell_type": "code",
   "execution_count": 3,
   "metadata": {},
   "outputs": [
    {
     "ename": "FileNotFoundError",
     "evalue": "[Errno 2] No such file or directory: './cities.txt'",
     "output_type": "error",
     "traceback": [
      "\u001b[1;31m---------------------------------------------------------------------------\u001b[0m",
      "\u001b[1;31mFileNotFoundError\u001b[0m                         Traceback (most recent call last)",
      "\u001b[1;32m<ipython-input-3-66d2f77269cb>\u001b[0m in \u001b[0;36m<module>\u001b[1;34m()\u001b[0m\n\u001b[1;32m----> 1\u001b[1;33m \u001b[0mcities\u001b[0m \u001b[1;33m=\u001b[0m \u001b[1;33m[\u001b[0m\u001b[0mline\u001b[0m\u001b[1;33m.\u001b[0m\u001b[0mrstrip\u001b[0m\u001b[1;33m(\u001b[0m\u001b[1;34m'\\n\\r'\u001b[0m\u001b[1;33m)\u001b[0m \u001b[1;32mfor\u001b[0m \u001b[0mline\u001b[0m \u001b[1;32min\u001b[0m \u001b[0mopen\u001b[0m\u001b[1;33m(\u001b[0m\u001b[1;34m'./cities.txt'\u001b[0m\u001b[1;33m)\u001b[0m\u001b[1;33m]\u001b[0m\u001b[1;33m\u001b[0m\u001b[0m\n\u001b[0m\u001b[0;32m      2\u001b[0m \u001b[1;33m\u001b[0m\u001b[0m\n\u001b[0;32m      3\u001b[0m \u001b[1;31m# Setting up the column names for each data frame\u001b[0m\u001b[1;33m\u001b[0m\u001b[1;33m\u001b[0m\u001b[0m\n\u001b[0;32m      4\u001b[0m incomeDF = pd.DataFrame(columns=[\"City\", \"Median Income 2016\", \"Median Income 2015\", \"Median Income 2014\", \"Median Income 2013\",\n\u001b[0;32m      5\u001b[0m                   \"Median Income 2012\", \"Median Income 2011\", \"Median Income 2010\"])\n",
      "\u001b[1;31mFileNotFoundError\u001b[0m: [Errno 2] No such file or directory: './cities.txt'"
     ]
    }
   ],
   "source": [
    "cities = [line.rstrip('\\n\\r') for line in open('./cities.txt')]\n",
    "\n",
    "# Setting up the column names for each data frame\n",
    "incomeDF = pd.DataFrame(columns=[\"City\", \"Median Income 2016\", \"Median Income 2015\", \"Median Income 2014\", \"Median Income 2013\",\n",
    "                  \"Median Income 2012\", \"Median Income 2011\", \"Median Income 2010\"])\n",
    "\n",
    "unemploymentDF = pd.DataFrame(columns=[\"City\", \"Unemployment Rate 2016\", \"Unemployment Rate 2015\", \"Unemployment Rate 2014\", \n",
    "                                       \"Unemployment Rate 2013\", \"Unemployment Rate 2012\", \"Unemployment Rate 2011\", \n",
    "                                       \"Unemployment Rate 2010\"])\n",
    "\n",
    "commuteDF = pd.DataFrame(columns=[\"City\", \"Mean Commute Time 2016\", \"Mean Commute Time 2015\", \"Mean Commute Time 2014\", \n",
    "                                  \"Mean Commute Time 2013\", \"Mean Commute Time 2012\", \"Mean Commute Time 2011\", \n",
    "                                  \"Mean Commute Time 2010\"])\n",
    "\n",
    "# Set the amount of rows per data frame\n",
    "data = pd.DataFrame({\"City\": range(len(cities))})\n",
    "incomeDF = incomeDF.append(data)\n",
    "unemploymentDF = unemploymentDF.append(data)\n",
    "commuteDF = commuteDF.append(data)\n",
    "\n",
    "# Input the name of a city per row in each data frame\n",
    "for i, row in incomeDF.iterrows():\n",
    "    row.loc['City'] = cities[i]\n",
    "    \n",
    "for i, row in unemploymentDF.iterrows():\n",
    "    row.loc['City'] = cities[i]\n",
    "    \n",
    "for i, row in commuteDF.iterrows():\n",
    "    row.loc['City'] = cities[i]\n",
    "\n",
    "\n",
    "# Reverse the column order (ie 2010 to 2016)\n",
    "incomeDF = incomeDF.iloc[:, ::-1]\n",
    "unemploymentDF = unemploymentDF.iloc[:, ::-1]\n",
    "commuteDF = commuteDF.iloc[:, ::-1]\n",
    "\n",
    "for i, city in enumerate(cities):\n",
    "    scraping_cities(city, i)\n",
    "    print(city + \" \" + str(i)) # Done to see what city we're currently scraping\n",
    "\n",
    "# Setting the \"City\" as the index column for all dataframes\n",
    "incomeDF = incomeDF.set_index('City')\n",
    "unemploymentDF = unemploymentDF.set_index('City')\n",
    "commuteDF = commuteDF.set_index('City')\n",
    "\n",
    "# Close the webdriver instance\n",
    "br.quit()"
   ]
  },
  {
   "cell_type": "code",
   "execution_count": null,
   "metadata": {},
   "outputs": [],
   "source": []
  }
 ],
 "metadata": {
  "kernelspec": {
   "display_name": "Python 3",
   "language": "python",
   "name": "python3"
  },
  "language_info": {
   "codemirror_mode": {
    "name": "ipython",
    "version": 3
   },
   "file_extension": ".py",
   "mimetype": "text/x-python",
   "name": "python",
   "nbconvert_exporter": "python",
   "pygments_lexer": "ipython3",
   "version": "3.6.4"
  }
 },
 "nbformat": 4,
 "nbformat_minor": 2
}
